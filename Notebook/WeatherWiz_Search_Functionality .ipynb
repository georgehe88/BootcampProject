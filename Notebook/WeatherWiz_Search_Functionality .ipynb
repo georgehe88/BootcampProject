{
  "nbformat": 4,
  "nbformat_minor": 0,
  "metadata": {
    "colab": {
      "provenance": []
    },
    "kernelspec": {
      "name": "python3",
      "display_name": "Python 3"
    },
    "language_info": {
      "name": "python"
    }
  },
  "cells": [
    {
      "cell_type": "code",
      "source": [
        "import requests\n",
        "from geopy.geocoders import Nominatim\n",
        "from datetime import datetime\n",
        "\n",
        "BASE_URL = \"https://api.pirateweather.net/forecast/\"\n",
        "API_KEY = \"9Pn8CfvVbD6NaHdukQWoo0T5MaFGXwVJ\"\n",
        "\n",
        "def get_weather_data(location_input):\n",
        "    try:\n",
        "        # Function to get latitude and longitude from location input\n",
        "        def get_coordinates(location):\n",
        "            try:\n",
        "                # If the input is already latitude and longitude, split and return\n",
        "                if ',' in location:\n",
        "                    latitude, longitude = location.split(',')\n",
        "                    return latitude.strip(), longitude.strip()\n",
        "\n",
        "                # If the input is a city name or zipcode, use geocoding to get coordinates\n",
        "                geolocator = Nominatim(user_agent=\"weather_app\")\n",
        "                location = geolocator.geocode(location)\n",
        "                if location:\n",
        "                    return str(location.latitude), str(location.longitude), location.address\n",
        "                else:\n",
        "                    print(\"Location not found\")\n",
        "                    return None, None, None\n",
        "            except Exception as e:\n",
        "                print(f\"Error occurred while getting coordinates: {e}\")\n",
        "                return None, None, None\n",
        "\n",
        "        # Get latitude, longitude, and city name from the location input\n",
        "        latitude, longitude, city_name = get_coordinates(location_input)\n",
        "        if latitude is not None and longitude is not None:\n",
        "            # Construct the URL based on the location and API key\n",
        "            location = f\"{latitude},{longitude}\"\n",
        "            url = f\"{BASE_URL}{API_KEY}/{location}?exclude=minutely,daily&extend=hourly&tz=auto\"\n",
        "\n",
        "            # Send the request and get the response\n",
        "            response = requests.get(url)\n",
        "\n",
        "            # Check if the request was successful (status code 200)\n",
        "            response.raise_for_status()\n",
        "\n",
        "            # Parse JSON response\n",
        "            weather_data = response.json()\n",
        "            return weather_data, city_name\n",
        "        else:\n",
        "            return None, None\n",
        "    except requests.exceptions.RequestException as e:\n",
        "        # Print error message if request was not successful\n",
        "        print(f\"HTTP error occurred: {e}\")\n",
        "        return None, None\n",
        "\n",
        "def print_weather_info(weather_data, city_name):\n",
        "    try:\n",
        "        # Extract temperature and weather conditions from the weather data\n",
        "        temperature = weather_data['currently']['temperature']\n",
        "        summary = weather_data['currently']['summary']\n",
        "        time = datetime.fromtimestamp(weather_data['currently']['time']).strftime('%Y-%m-%d %H:%M:%S')\n",
        "\n",
        "        # Print the city name, time, temperature, and weather conditions\n",
        "        print(f\"City: {city_name}\")\n",
        "        print(f\"Time: {time}\")\n",
        "        print(f\"Temperature: {temperature}°C\")\n",
        "        print(f\"Weather conditions: {summary}\")\n",
        "    except KeyError:\n",
        "        print(\"Weather data format is not as expected.\")\n",
        "\n",
        "# Example usage:\n",
        "location_input = input(\"Enter city name, zipcode, or latitude,longitude: \")\n",
        "weather_data, city_name = get_weather_data(location_input)\n",
        "if weather_data and city_name:\n",
        "    print_weather_info(weather_data, city_name)\n"
      ],
      "metadata": {
        "colab": {
          "base_uri": "https://localhost:8080/"
        },
        "id": "1ql9_h64faK2",
        "outputId": "5a0b9bea-e893-40fb-e4b4-765e5326e548"
      },
      "execution_count": 4,
      "outputs": [
        {
          "output_type": "stream",
          "name": "stdout",
          "text": [
            "Enter city name, zipcode, or latitude,longitude: New York\n",
            "City: City of New York, New York, United States\n",
            "Time: 2024-04-29 20:14:00\n",
            "Temperature: 78.28°C\n",
            "Weather conditions: Clear\n"
          ]
        }
      ]
    }
  ]
}